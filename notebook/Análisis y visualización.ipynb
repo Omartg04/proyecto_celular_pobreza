{
 "cells": [
  {
   "cell_type": "code",
   "execution_count": 15,
   "id": "57f3f89f-af3e-47d7-ad03-5d0f3816851f",
   "metadata": {},
   "outputs": [
    {
     "name": "stdout",
     "output_type": "stream",
     "text": [
      "--- INICIANDO PREPARACIÓN DE DATOS 2020 ---\n",
      "Cargando archivos...\n",
      "Archivos cargados.\n",
      "Procesando datos...\n",
      "Datos procesados a nivel hogar.\n",
      "Uniendo las bases de datos...\n",
      "Unión de datos para 2020 finalizada.\n",
      "¡Trabajo de 2020 completado y guardado en: ../data/procesados/enigh_2020_final_enriquecido.parquet!\n"
     ]
    }
   ],
   "source": [
    "# =======================================================================\n",
    "# SCRIPT MAESTRO DE PREPARACIÓN DE DATOS (VERSIÓN ENRIQUECIDA)\n",
    "# Usar como plantilla para cada año: 2018, 2020, 2022, 2024\n",
    "# =======================================================================\n",
    "\n",
    "import pandas as pd\n",
    "import numpy as np\n",
    "\n",
    "# --- 1. CONFIGURACIÓN INICIAL (EJEMPLO PARA 2024) ---\n",
    "AÑO = '20' # Cambia esto por '18', '20', '22'\n",
    "print(f\"--- INICIANDO PREPARACIÓN DE DATOS 20{AÑO} ---\")\n",
    "\n",
    "ruta_base = f'../data/enigh_20{AÑO}/'\n",
    "path_hogares = f'{ruta_base}hogares.csv'\n",
    "path_pobreza = f'{ruta_base}pobreza{AÑO}.csv'\n",
    "path_gastos = f'{ruta_base}gastoshogar.csv'\n",
    "path_poblacion = f'{ruta_base}poblacion.csv' # Nueva base de datos\n",
    "\n",
    "# --- 2. CARGA DE DATOS FUENTE ---\n",
    "print(\"Cargando archivos...\")\n",
    "df_hogares = pd.read_csv(path_hogares, low_memory=False)\n",
    "df_pobreza = pd.read_csv(path_pobreza, low_memory=False)\n",
    "df_gastos = pd.read_csv(path_gastos, low_memory=False)\n",
    "df_poblacion = pd.read_csv(path_poblacion, low_memory=False)\n",
    "print(\"Archivos cargados.\")\n",
    "\n",
    "# --- 3. PREPARACIÓN DE BASES AGREGADAS A NIVEL HOGAR ---\n",
    "print(\"Procesando datos...\")\n",
    "\n",
    "# A. Base de Pobreza (ahora con más variables)\n",
    "columnas_pobreza = [\n",
    "    'folioviv', 'pobreza', 'pobreza_e', 'ict', 'ictpc', # Ingresos\n",
    "    'rururb', \"factor\", # Ámbito\n",
    "    'ic_rezedu', 'ic_asalud', 'ic_segsoc', 'ic_cv', 'ic_sbv', 'ic_ali' # Carencias\n",
    "]\n",
    "df_pobreza_hogar = df_pobreza[columnas_pobreza].drop_duplicates(subset='folioviv').copy()\n",
    "\n",
    "# B. Base de Gastos (lógica sin cambios)\n",
    "clave_gasto = '083201' if AÑO == '24' else 'F003' # Lógica para clave de gasto\n",
    "df_gastos['clave'] = df_gastos['clave'].astype(str)\n",
    "gastos_celular = df_gastos[(df_gastos['clave'] == clave_gasto) & (df_gastos['tipo_gasto'] == 'G1')].copy()\n",
    "gastos_celular['gasto_tri'] = pd.to_numeric(gastos_celular['gasto_tri'], errors='coerce')\n",
    "df_gasto_agregado = gastos_celular.groupby('folioviv')['gasto_tri'].sum().reset_index()\n",
    "df_gasto_agregado['gasto_celular'] = df_gasto_agregado['gasto_tri'] / 3\n",
    "df_gasto_hogar = df_gasto_agregado[['folioviv', 'gasto_celular']]\n",
    "\n",
    "# C. NUEVO: Base de Jefatura de Hogar Femenina\n",
    "# El parentesco 101 usualmente identifica al jefe(a) de hogar. Verifica el diccionario si cambia.\n",
    "jefes_de_hogar = df_poblacion[df_poblacion['parentesco'] == 101].copy()\n",
    "# Sexo 2 usualmente es Mujer.\n",
    "jefes_de_hogar['Jefatura_Mujer'] = np.where(jefes_de_hogar['sexo'] == 2, 1, 0)\n",
    "df_jefatura_hogar = jefes_de_hogar[['folioviv', 'Jefatura_Mujer']]\n",
    "\n",
    "print(\"Datos procesados a nivel hogar.\")\n",
    "\n",
    "# --- 4. UNIÓN DE TODAS LAS BASES DE DATOS ---\n",
    "print(\"Uniendo las bases de datos...\")\n",
    "# Empezamos con la base de hogares\n",
    "df_final = df_hogares\n",
    "# Unimos pobreza y las nuevas variables\n",
    "df_final = pd.merge(df_final, df_pobreza_hogar, on='folioviv', how='left')\n",
    "# Unimos gasto\n",
    "df_final = pd.merge(df_final, df_gasto_hogar, on='folioviv', how='left')\n",
    "# Unimos la nueva variable de jefatura\n",
    "df_final = pd.merge(df_final, df_jefatura_hogar, on='folioviv', how='left')\n",
    "\n",
    "# Limpieza final\n",
    "df_final['gasto_celular'].fillna(0, inplace=True)\n",
    "df_final['Jefatura_Mujer'].fillna(0, inplace=True) # Asumimos 0 si no se encuentra jefa\n",
    "\n",
    "print(f\"Unión de datos para 20{AÑO} finalizada.\")\n",
    "\n",
    "# --- 5. GUARDAR EL DATAFRAME ENRIQUECIDO ---\n",
    "ruta_guardado = '../data/procesados/'\n",
    "if not os.path.exists(ruta_guardado):\n",
    "    os.makedirs(ruta_guardado)\n",
    "\n",
    "archivo_parquet = f'{ruta_guardado}enigh_20{AÑO}_final_enriquecido.parquet'\n",
    "df_final.to_parquet(archivo_parquet)\n",
    "\n",
    "print(f\"¡Trabajo de 20{AÑO} completado y guardado en: {archivo_parquet}!\")"
   ]
  },
  {
   "cell_type": "code",
   "execution_count": 16,
   "id": "bd586719-c112-4cf1-b03c-b1f5a451d718",
   "metadata": {},
   "outputs": [
    {
     "name": "stdout",
     "output_type": "stream",
     "text": [
      "--- Verificando la presencia de la columna 'factor' en los archivos procesados ---\n",
      "✅ Archivo de 2018: La columna 'factor' SÍ está presente.\n",
      "✅ Archivo de 2020: La columna 'factor' SÍ está presente.\n",
      "✅ Archivo de 2022: La columna 'factor' SÍ está presente.\n",
      "✅ Archivo de 2024: La columna 'factor' SÍ está presente.\n"
     ]
    }
   ],
   "source": [
    "# --- CÓDIGO DE VERIFICACIÓN DE ARCHIVOS ENRIQUECIDOS ---\n",
    "import pandas as pd\n",
    "\n",
    "años = [2018, 2020, 2022, 2024]\n",
    "ruta_base = '../data/procesados/'\n",
    "\n",
    "print(\"--- Verificando la presencia de la columna 'factor' en los archivos procesados ---\")\n",
    "\n",
    "for año in años:\n",
    "    # Construir el nombre del archivo\n",
    "    nombre_archivo = f'enigh_{año}_final_enriquecido.parquet'\n",
    "    ruta_completa = f'{ruta_base}{nombre_archivo}'\n",
    "    \n",
    "    try:\n",
    "        # Cargar el archivo\n",
    "        df_temp = pd.read_parquet(ruta_completa)\n",
    "        \n",
    "        # Verificar si la columna 'factor' existe\n",
    "        if 'factor' in df_temp.columns:\n",
    "            print(f\"✅ Archivo de {año}: La columna 'factor' SÍ está presente.\")\n",
    "        else:\n",
    "            print(f\"❌ Archivo de {año}: ¡ALERTA! La columna 'factor' NO está presente.\")\n",
    "            \n",
    "    except FileNotFoundError:\n",
    "        print(f\"⚠️  Archivo de {año}: No se encontró el archivo '{nombre_archivo}'.\")"
   ]
  },
  {
   "cell_type": "code",
   "execution_count": 2,
   "id": "d1089da1-03f3-40a1-9573-61a924e82a86",
   "metadata": {},
   "outputs": [
    {
     "name": "stdout",
     "output_type": "stream",
     "text": [
      "Inspeccionando el archivo: ../data/enigh_2024/hogares.csv\n",
      "\n",
      "¡ÉXITO! Se encontraron las siguientes columnas candidatas:\n",
      "Nombres exactos: ['num_venti', 'anio_venti', 'entidad']\n",
      "\n",
      "Primeros 5 valores de la(s) columna(s) encontrada(s):\n",
      "   num_venti anio_venti  entidad\n",
      "0          1         23        1\n",
      "1          0        NaN        1\n",
      "2          1         24        1\n",
      "3          0        NaN        1\n",
      "4          0        NaN        1\n"
     ]
    }
   ],
   "source": [
    "# --- CÓDIGO DE DIAGNÓSTICO PARA LA COLUMNA 'ent' ---\n",
    "import pandas as pd\n",
    "\n",
    "# Usaremos el archivo de 2024 como ejemplo\n",
    "ruta_hogares_2024 = '../data/enigh_2024/hogares.csv'\n",
    "\n",
    "try:\n",
    "    print(f\"Inspeccionando el archivo: {ruta_hogares_2024}\")\n",
    "    df_hogares_test = pd.read_csv(ruta_hogares_2024, low_memory=False)\n",
    "    \n",
    "    # Buscamos columnas que contengan 'ent' (ignorando mayúsculas/minúsculas)\n",
    "    columnas_encontradas = [col for col in df_hogares_test.columns if 'ent' in col.lower()]\n",
    "    \n",
    "    if columnas_encontradas:\n",
    "        print(\"\\n¡ÉXITO! Se encontraron las siguientes columnas candidatas:\")\n",
    "        print(f\"Nombres exactos: {columnas_encontradas}\")\n",
    "        \n",
    "        # Mostramos los primeros valores de esa(s) columna(s) para confirmar\n",
    "        print(\"\\nPrimeros 5 valores de la(s) columna(s) encontrada(s):\")\n",
    "        print(df_hogares_test[columnas_encontradas].head())\n",
    "    else:\n",
    "        print(\"\\nERROR: No se encontró ninguna columna que contenga 'ent'.\")\n",
    "        print(\"Por favor, revisa las primeras columnas del archivo:\")\n",
    "        print(df_hogares_test.columns.tolist()[:20]) # Muestra las primeras 20 columnas\n",
    "\n",
    "except FileNotFoundError:\n",
    "    print(f\"\\nError de archivo: No se pudo encontrar el archivo en la ruta especificada.\")\n",
    "    print(\"Asegúrate de que la ruta sea correcta.\")"
   ]
  },
  {
   "cell_type": "code",
   "execution_count": 3,
   "id": "42927abf-a0c0-4b9d-a2de-768471b80f25",
   "metadata": {},
   "outputs": [
    {
     "name": "stdout",
     "output_type": "stream",
     "text": [
      "Collecting geopandas\n",
      "  Using cached geopandas-0.13.2-py3-none-any.whl.metadata (1.5 kB)\n",
      "Collecting fiona\n",
      "  Using cached fiona-1.10.1-cp38-cp38-macosx_10_15_x86_64.whl.metadata (56 kB)\n",
      "Collecting shapely\n",
      "  Using cached shapely-2.0.7-cp38-cp38-macosx_10_9_x86_64.whl.metadata (6.9 kB)\n",
      "Collecting pyproj\n",
      "  Using cached pyproj-3.5.0-cp38-cp38-macosx_10_9_x86_64.whl.metadata (28 kB)\n",
      "Requirement already satisfied: packaging in /Users/omartellez/proyecto_celular_pobreza/env/lib/python3.8/site-packages (from geopandas) (24.2)\n",
      "Requirement already satisfied: pandas>=1.1.0 in /Users/omartellez/proyecto_celular_pobreza/env/lib/python3.8/site-packages (from geopandas) (2.0.3)\n",
      "Requirement already satisfied: attrs>=19.2.0 in /Users/omartellez/proyecto_celular_pobreza/env/lib/python3.8/site-packages (from fiona) (25.3.0)\n",
      "Requirement already satisfied: certifi in /Users/omartellez/proyecto_celular_pobreza/env/lib/python3.8/site-packages (from fiona) (2025.8.3)\n",
      "Requirement already satisfied: click~=8.0 in /Users/omartellez/proyecto_celular_pobreza/env/lib/python3.8/site-packages (from fiona) (8.1.8)\n",
      "Requirement already satisfied: click-plugins>=1.0 in /Users/omartellez/proyecto_celular_pobreza/env/lib/python3.8/site-packages (from fiona) (1.1.1.2)\n",
      "Requirement already satisfied: cligj>=0.5 in /Users/omartellez/proyecto_celular_pobreza/env/lib/python3.8/site-packages (from fiona) (0.7.2)\n",
      "Requirement already satisfied: importlib-metadata in /Users/omartellez/proyecto_celular_pobreza/env/lib/python3.8/site-packages (from fiona) (8.5.0)\n",
      "Requirement already satisfied: numpy<3,>=1.14 in /Users/omartellez/proyecto_celular_pobreza/env/lib/python3.8/site-packages (from shapely) (1.24.4)\n",
      "Requirement already satisfied: python-dateutil>=2.8.2 in /Users/omartellez/proyecto_celular_pobreza/env/lib/python3.8/site-packages (from pandas>=1.1.0->geopandas) (2.9.0.post0)\n",
      "Requirement already satisfied: pytz>=2020.1 in /Users/omartellez/proyecto_celular_pobreza/env/lib/python3.8/site-packages (from pandas>=1.1.0->geopandas) (2025.2)\n",
      "Requirement already satisfied: tzdata>=2022.1 in /Users/omartellez/proyecto_celular_pobreza/env/lib/python3.8/site-packages (from pandas>=1.1.0->geopandas) (2025.2)\n",
      "Requirement already satisfied: zipp>=3.20 in /Users/omartellez/proyecto_celular_pobreza/env/lib/python3.8/site-packages (from importlib-metadata->fiona) (3.20.2)\n",
      "Requirement already satisfied: six>=1.5 in /Users/omartellez/proyecto_celular_pobreza/env/lib/python3.8/site-packages (from python-dateutil>=2.8.2->pandas>=1.1.0->geopandas) (1.17.0)\n",
      "Using cached geopandas-0.13.2-py3-none-any.whl (1.1 MB)\n",
      "Using cached fiona-1.10.1-cp38-cp38-macosx_10_15_x86_64.whl (16.1 MB)\n",
      "Using cached shapely-2.0.7-cp38-cp38-macosx_10_9_x86_64.whl (1.5 MB)\n",
      "Using cached pyproj-3.5.0-cp38-cp38-macosx_10_9_x86_64.whl (8.5 MB)\n",
      "Installing collected packages: shapely, pyproj, fiona, geopandas\n",
      "Successfully installed fiona-1.10.1 geopandas-0.13.2 pyproj-3.5.0 shapely-2.0.7\n"
     ]
    }
   ],
   "source": [
    "# Instalar geopandas y sus dependencias directamente aquí\n",
    "!pip install geopandas fiona shapely pyproj"
   ]
  },
  {
   "cell_type": "code",
   "execution_count": 1,
   "id": "569697b9-335f-496d-967e-09fa9a92de50",
   "metadata": {},
   "outputs": [
    {
     "name": "stdout",
     "output_type": "stream",
     "text": [
      "¡Importación exitosa!\n",
      "Versión de Fiona instalada: 1.10.1\n",
      "Versión de GeoPandas instalada: 0.13.2\n"
     ]
    }
   ],
   "source": [
    "# Vuelve a intentar la importación\n",
    "import fiona\n",
    "import geopandas\n",
    "\n",
    "print(\"¡Importación exitosa!\")\n",
    "print(f\"Versión de Fiona instalada: {fiona.__version__}\")\n",
    "print(f\"Versión de GeoPandas instalada: {geopandas.__version__}\")"
   ]
  },
  {
   "cell_type": "code",
   "execution_count": 3,
   "id": "7f561668-4964-465c-a4b3-c1ea39d23700",
   "metadata": {},
   "outputs": [
    {
     "name": "stdout",
     "output_type": "stream",
     "text": [
      "✅ ¡Todas las librerías geoespaciales se importaron con éxito!\n",
      "--------------------------------------------------\n",
      "Versión de Fiona instalada: 1.10.1\n",
      "Versión de GeoPandas instalada: 0.13.2\n",
      "Versión de PyProj instalada: 3.5.0\n",
      "Versión de Shapely instalada: 2.0.7\n"
     ]
    }
   ],
   "source": [
    "import fiona\n",
    "import geopandas\n",
    "import pyproj\n",
    "import shapely\n",
    "\n",
    "print(\"✅ ¡Todas las librerías geoespaciales se importaron con éxito!\")\n",
    "print(\"-\" * 50)\n",
    "print(f\"Versión de Fiona instalada: {fiona.__version__}\")\n",
    "print(f\"Versión de GeoPandas instalada: {geopandas.__version__}\")\n",
    "print(f\"Versión de PyProj instalada: {pyproj.__version__}\")\n",
    "print(f\"Versión de Shapely instalada: {shapely.__version__}\")"
   ]
  },
  {
   "cell_type": "code",
   "execution_count": 4,
   "id": "d4227ed8-5495-4af6-9caa-0ef328929d68",
   "metadata": {},
   "outputs": [
    {
     "name": "stdout",
     "output_type": "stream",
     "text": [
      "\n",
      "Intentando leer el archivo GeoJSON con GeoPandas...\n",
      "\n",
      "❌ FALLO: Aún hay un problema. Error recibido: module 'fiona' has no attribute 'path'\n"
     ]
    }
   ],
   "source": [
    "import geopandas as gpd\n",
    "\n",
    "# Define la ruta a tu archivo\n",
    "path_geojson = 'data/geodata/mexico_estados.geojson'\n",
    "\n",
    "print(\"\\nIntentando leer el archivo GeoJSON con GeoPandas...\")\n",
    "\n",
    "try:\n",
    "    gdf = gpd.read_file(path_geojson)\n",
    "    \n",
    "    print(\"\\n✅ ¡ÉXITO TOTAL! El archivo se ha cargado correctamente en un GeoDataFrame.\")\n",
    "    print(\"La instalación de geopandas y sus dependencias es correcta y funcional.\")\n",
    "    \n",
    "    print(\"\\nPrimeras filas del GeoDataFrame:\")\n",
    "    display(gdf.head())\n",
    "    \n",
    "except Exception as e:\n",
    "    print(f\"\\n❌ FALLO: Aún hay un problema. Error recibido: {e}\")\n",
    "    "
   ]
  },
  {
   "cell_type": "code",
   "execution_count": null,
   "id": "fe4c40ca-b08b-4440-8c59-03e07eca83e7",
   "metadata": {},
   "outputs": [],
   "source": []
  }
 ],
 "metadata": {
  "kernelspec": {
   "display_name": "Python 3 (ipykernel)",
   "language": "python",
   "name": "python3"
  },
  "language_info": {
   "codemirror_mode": {
    "name": "ipython",
    "version": 3
   },
   "file_extension": ".py",
   "mimetype": "text/x-python",
   "name": "python",
   "nbconvert_exporter": "python",
   "pygments_lexer": "ipython3",
   "version": "3.8.2"
  }
 },
 "nbformat": 4,
 "nbformat_minor": 5
}
