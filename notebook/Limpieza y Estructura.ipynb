{
 "cells": [
  {
   "cell_type": "markdown",
   "id": "1ebe17a0-972e-4e56-90b8-5f3cd8863bdf",
   "metadata": {},
   "source": [
    "# Análisis 2018"
   ]
  },
  {
   "cell_type": "code",
   "execution_count": 14,
   "id": "c5a3c930-3451-45a7-8723-58fce0e8be2b",
   "metadata": {},
   "outputs": [
    {
     "name": "stdout",
     "output_type": "stream",
     "text": [
      "Rutas definidas para el análisis de 2018.\n"
     ]
    }
   ],
   "source": [
    "import pandas as pd\n",
    "import numpy as np\n",
    "import os\n",
    "\n",
    "# --- CONFIGURACIÓN DE RUTAS PARA 2018 ---\n",
    "# Asegúrate de que los nombres de archivo coincidan con los que descargaste.\n",
    "ruta_base = '../data/enigh_2018/'\n",
    "\n",
    "# Nombres de archivo\n",
    "archivo_hogares = 'hogares.csv'\n",
    "archivo_pobreza = 'pobreza18.csv' \n",
    "archivo_gastos = 'gastoshogar.csv'\n",
    "\n",
    "# Rutas completas\n",
    "path_hogares_18 = f'{ruta_base}{archivo_hogares}'\n",
    "path_pobreza_18 = f'{ruta_base}{archivo_pobreza}'\n",
    "path_gastos_18 = f'{ruta_base}{archivo_gastos}'\n",
    "\n",
    "print(\"Rutas definidas para el análisis de 2018.\")"
   ]
  },
  {
   "cell_type": "code",
   "execution_count": 19,
   "id": "225dbb24-bd97-47ab-ac17-12de05c9a863",
   "metadata": {},
   "outputs": [
    {
     "name": "stdout",
     "output_type": "stream",
     "text": [
      "Cargando archivos...\n",
      "Archivos cargados.\n",
      "Procesando datos de pobreza e ingreso...\n",
      "Procesando datos de gasto...\n",
      "Preparación de datos completada.\n"
     ]
    }
   ],
   "source": [
    "# --- CARGA Y PREPARACIÓN DE DATOS ---\n",
    "\n",
    "# 1. Cargar los archivos CSV\n",
    "print(\"Cargando archivos...\")\n",
    "df_hogares_18 = pd.read_csv(path_hogares_18, low_memory=False)\n",
    "df_pobreza_18 = pd.read_csv(path_pobreza_18, low_memory=False)\n",
    "df_gastos_18 = pd.read_csv(path_gastos_18, low_memory=False)\n",
    "print(\"Archivos cargados.\")\n",
    "\n",
    "# 2. Preparar Base de Pobreza e Ingresos (a nivel hogar)\n",
    "print(\"Procesando datos de pobreza e ingreso...\")\n",
    "columnas_pobreza = ['folioviv', 'pobreza', 'pobreza_e', 'ict',\"rurubr\"]\n",
    "df_pobreza_18_hogar = df_pobreza_18[columnas_pobreza].drop_duplicates(subset='folioviv').copy()\n",
    "\n",
    "# 3. Preparar Base de Gastos (a nivel hogar y mensual)\n",
    "print(\"Procesando datos de gasto...\")\n",
    "# Filtrar por clave de gasto y tipo de gasto monetario\n",
    "df_gastos_18['clave'] = df_gastos_18['clave'].astype(str)\n",
    "gastos_celular_18 = df_gastos_18[\n",
    "    (df_gastos_18['clave'] == 'F003') & \n",
    "    (df_gastos_18['tipo_gasto'] == 'G1')\n",
    "].copy()\n",
    "\n",
    "# Convertir gasto a numérico (a prueba de errores)\n",
    "gastos_celular_18['gasto_tri'] = pd.to_numeric(gastos_celular_18['gasto_tri'], errors='coerce')\n",
    "\n",
    "# Agrupar, sumar gasto trimestral y convertir a mensual\n",
    "df_gasto_agregado_18 = gastos_celular_18.groupby('folioviv')['gasto_tri'].sum().reset_index()\n",
    "df_gasto_agregado_18['gasto_celular'] = df_gasto_agregado_18['gasto_tri'] / 3\n",
    "df_gasto_cel_18 = df_gasto_agregado_18[['folioviv', 'gasto_celular']]\n",
    "\n",
    "print(\"Preparación de datos completada.\")"
   ]
  },
  {
   "cell_type": "code",
   "execution_count": 20,
   "id": "c606a829-05aa-4bd3-8a2d-fa79d4d98327",
   "metadata": {},
   "outputs": [
    {
     "name": "stdout",
     "output_type": "stream",
     "text": [
      "Uniendo las bases de datos...\n",
      "Unión de datos finalizada. DataFrame 'df_final_18' creado.\n",
      "El DataFrame final tiene 74647 filas.\n"
     ]
    }
   ],
   "source": [
    "# --- UNIÓN DE BASES DE DATOS ---\n",
    "\n",
    "print(\"Uniendo las bases de datos...\")\n",
    "# 1. Unir hogares con pobreza e ingreso\n",
    "df_merged_18 = pd.merge(df_hogares_18, df_pobreza_18_hogar, on='folioviv', how='left')\n",
    "\n",
    "# 2. Unir con el gasto mensual en celular\n",
    "df_final_18 = pd.merge(df_merged_18, df_gasto_cel_18, on='folioviv', how='left')\n",
    "\n",
    "# 3. Limpieza post-unión (llenar gastos no existentes con 0)\n",
    "df_final_18['gasto_celular'].fillna(0, inplace=True)\n",
    "\n",
    "print(\"Unión de datos finalizada. DataFrame 'df_final_18' creado.\")\n",
    "print(f\"El DataFrame final tiene {df_final_18.shape[0]} filas.\")"
   ]
  },
  {
   "cell_type": "code",
   "execution_count": 21,
   "id": "b983fadd-8c2a-4e2b-a542-e068be7ede42",
   "metadata": {},
   "outputs": [
    {
     "name": "stdout",
     "output_type": "stream",
     "text": [
      "Variables finales 'pct_gasto_celular' y 'categoria_conexion' creadas.\n"
     ]
    }
   ],
   "source": [
    "# --- CREACIÓN DE VARIABLES DE ANÁLISIS ---\n",
    "\n",
    "# 1. Crear 'pct_gasto_celular' usando 'ict'\n",
    "df_final_18['pct_gasto_celular'] = np.where(\n",
    "    (df_final_18['ict'] > 0) & (df_final_18['ict'].notna()),\n",
    "    (df_final_18['gasto_celular'] / df_final_18['ict']) * 100,\n",
    "    0\n",
    ")\n",
    "\n",
    "# 2. Crear 'categoria_conexion'\n",
    "df_final_18['celular'] = pd.to_numeric(df_final_18['celular'], errors='coerce')\n",
    "df_final_18['conex_inte'] = pd.to_numeric(df_final_18['conex_inte'], errors='coerce')\n",
    "\n",
    "conditions = [\n",
    "    df_final_18['celular'] == 2,\n",
    "    (df_final_18['celular'] == 1) & (df_final_18['conex_inte'] != 1),\n",
    "    (df_final_18['celular'] == 1) & (df_final_18['conex_inte'] == 1)\n",
    "]\n",
    "choices = ['1. Sin Celular', '2. Con Celular, Sin Internet', '3. Con Celular y Con Internet']\n",
    "df_final_18['categoria_conexion'] = np.select(conditions, choices, default='Dato Faltante')\n",
    "\n",
    "print(\"Variables finales 'pct_gasto_celular' y 'categoria_conexion' creadas.\")"
   ]
  },
  {
   "cell_type": "code",
   "execution_count": 27,
   "id": "ce2c8458-b9f4-4706-a8ed-3c963c735bd7",
   "metadata": {},
   "outputs": [
    {
     "name": "stdout",
     "output_type": "stream",
     "text": [
      "\n",
      "--- MÉTRICA 1: Porcentaje y Nro. de Hogares con Celular por Categoría (2018) ---\n",
      "                        Grupo Porcentaje_Acceso Hogares_Con_Celular  \\\n",
      "0             Hogares Totales            86.11%          29,621,977   \n",
      "1          Hogares en Pobreza            77.29%           9,721,540   \n",
      "2  Hogares en Pobreza Extrema            59.70%           1,301,343   \n",
      "\n",
      "  Total_Hogares  \n",
      "0    34,400,515  \n",
      "1    12,577,228  \n",
      "2     2,179,641  \n"
     ]
    }
   ],
   "source": [
    "# --- MÉTRICA 1: ACCESO A CELULAR POR CATEGORÍAS (PONDERADO) ---\n",
    "\n",
    "# Requisitos: Columnas 'tiene_celular' y 'numerador_pond' de la celda 4.\n",
    "# DataFrames df_pobreza y df_pobreza_ext de esta misma celda.\n",
    "\n",
    "# Definir grupos si no se ha hecho\n",
    "df_pobreza = df_final_18[df_final_18['pobreza'] == 1].copy()\n",
    "df_pobreza_ext = df_final_18[df_final_18['pobreza_e'] == 1].copy()\n",
    "\n",
    "# 1. Cálculos para HOGARES TOTALES\n",
    "total_hogares_nac = df_final_18['factor'].sum()\n",
    "hogares_con_cel_nac = df_final_18['numerador_pond'].sum()\n",
    "pct_total = (hogares_con_cel_nac / total_hogares_nac) * 100\n",
    "\n",
    "# 2. Cálculos para HOGARES EN POBREZA\n",
    "total_hogares_pob = df_pobreza['factor'].sum()\n",
    "hogares_con_cel_pob = df_pobreza['numerador_pond'].sum()\n",
    "pct_pobreza = (hogares_con_cel_pob / total_hogares_pob) * 100\n",
    "\n",
    "# 3. Cálculos para HOGARES EN POBREZA EXTREMA\n",
    "total_hogares_pob_ext = df_pobreza_ext['factor'].sum()\n",
    "hogares_con_cel_pob_ext = df_pobreza_ext['numerador_pond'].sum()\n",
    "pct_pobreza_ext = (hogares_con_cel_pob_ext / total_hogares_pob_ext) * 100\n",
    "\n",
    "# 4. Consolidar los resultados en una tabla\n",
    "resultados_acceso = {\n",
    "    'Grupo': ['Hogares Totales', 'Hogares en Pobreza', 'Hogares en Pobreza Extrema'],\n",
    "    'Porcentaje_Acceso': [pct_total, pct_pobreza, pct_pobreza_ext],\n",
    "    'Hogares_Con_Celular': [hogares_con_cel_nac, hogares_con_cel_pob, hogares_con_cel_pob_ext],\n",
    "    'Total_Hogares': [total_hogares_nac, total_hogares_pob, total_hogares_pob_ext]\n",
    "}\n",
    "df_resumen_acceso = pd.DataFrame(resultados_acceso)\n",
    "\n",
    "# Formatear para mejor visualización\n",
    "df_resumen_acceso['Porcentaje_Acceso'] = df_resumen_acceso['Porcentaje_Acceso'].map('{:.2f}%'.format)\n",
    "df_resumen_acceso['Hogares_Con_Celular'] = df_resumen_acceso['Hogares_Con_Celular'].map('{:,.0f}'.format)\n",
    "df_resumen_acceso['Total_Hogares'] = df_resumen_acceso['Total_Hogares'].map('{:,.0f}'.format)\n",
    "\n",
    "print(\"\\n--- MÉTRICA 1: Porcentaje y Nro. de Hogares con Celular por Categoría (2018) ---\")\n",
    "print(df_resumen_acceso)"
   ]
  },
  {
   "cell_type": "code",
   "execution_count": 28,
   "id": "1bda04c6-454b-418f-9724-210b3496cd9d",
   "metadata": {},
   "outputs": [
    {
     "name": "stdout",
     "output_type": "stream",
     "text": [
      "\n",
      "--- MÉTRICA 2: NÚMERO de Hogares por Calidad de Conexión (2018) ---\n",
      "categoria_conexion         1. Sin Celular 2. Con Celular, Sin Internet  \\\n",
      "Hogares Totales                 4,778,538                   16,321,333   \n",
      "Hogares en Pobreza              2,855,688                    7,571,691   \n",
      "Hogares en Pobreza Extrema        878,298                    1,230,659   \n",
      "\n",
      "categoria_conexion         3. Con Celular y Con Internet  \n",
      "Hogares Totales                               13,300,644  \n",
      "Hogares en Pobreza                             2,149,849  \n",
      "Hogares en Pobreza Extrema                        70,684  \n",
      "\n",
      "--- MÉTRICA 2: PORCENTAJE de Hogares por Calidad de Conexión (2018) ---\n",
      "categoria_conexion          1. Sin Celular  2. Con Celular, Sin Internet  \\\n",
      "Hogares Totales                      13.89                         47.45   \n",
      "Hogares en Pobreza                   22.71                         60.20   \n",
      "Hogares en Pobreza Extrema           40.30                         56.46   \n",
      "\n",
      "categoria_conexion          3. Con Celular y Con Internet  \n",
      "Hogares Totales                                     38.66  \n",
      "Hogares en Pobreza                                  17.09  \n",
      "Hogares en Pobreza Extrema                           3.24  \n"
     ]
    }
   ],
   "source": [
    "# --- MÉTRICA 2: CALIDAD DE CONEXIÓN POR CATEGORÍAS (PONDERADO) ---\n",
    "\n",
    "# Función auxiliar para calcular los números absolutos ponderados\n",
    "def calcular_absolutos(df, columna_categoria):\n",
    "    return df.groupby(columna_categoria)['factor'].sum()\n",
    "\n",
    "# 1. Calcular números absolutos para cada grupo\n",
    "abs_total = calcular_absolutos(df_final_18, 'categoria_conexion')\n",
    "abs_pobreza = calcular_absolutos(df_pobreza, 'categoria_conexion')\n",
    "abs_pobreza_ext = calcular_absolutos(df_pobreza_ext, 'categoria_conexion')\n",
    "\n",
    "# 2. Consolidar absolutos en una tabla y formatear\n",
    "df_resumen_conexion_abs = pd.DataFrame({\n",
    "    'Hogares Totales': abs_total,\n",
    "    'Hogares en Pobreza': abs_pobreza,\n",
    "    'Hogares en Pobreza Extrema': abs_pobreza_ext\n",
    "}).transpose().fillna(0)\n",
    "\n",
    "# 3. Calcular porcentajes (como antes)\n",
    "df_resumen_conexion_pct = df_resumen_conexion_abs.div(df_resumen_conexion_abs.sum(axis=1), axis=0) * 100\n",
    "\n",
    "print(\"\\n--- MÉTRICA 2: NÚMERO de Hogares por Calidad de Conexión (2018) ---\")\n",
    "print(df_resumen_conexion_abs.applymap('{:,.0f}'.format))\n",
    "\n",
    "print(\"\\n--- MÉTRICA 2: PORCENTAJE de Hogares por Calidad de Conexión (2018) ---\")\n",
    "print(df_resumen_conexion_pct.round(2))"
   ]
  },
  {
   "cell_type": "code",
   "execution_count": 26,
   "id": "f8692a73-e453-4147-9207-862b8cfa8a4a",
   "metadata": {},
   "outputs": [
    {
     "name": "stdout",
     "output_type": "stream",
     "text": [
      "\n",
      "--- MÉTRICA 3: Gasto Promedio en Celular (2018) ---\n",
      "                        Grupo  Gasto_Promedio_Mensual_MXN  \\\n",
      "0             Hogares Totales                      152.35   \n",
      "1          Hogares en Pobreza                      111.14   \n",
      "2  Hogares en Pobreza Extrema                       57.75   \n",
      "\n",
      "   Porcentaje_Promedio_del_Ingreso  \n",
      "0                             1.45  \n",
      "1                             1.89  \n",
      "2                             2.02  \n"
     ]
    }
   ],
   "source": [
    "# --- MÉTRICA 3: GASTO PROMEDIO EN CELULAR POR CATEGORÍAS (PONDERADO) ---\n",
    "\n",
    "def calcular_promedio_ponderado(df, col_valor):\n",
    "    return (df[col_valor] * df['factor']).sum() / df['factor'].sum()\n",
    "\n",
    "resultados_gasto = pd.DataFrame({\n",
    "    'Grupo': ['Hogares Totales', 'Hogares en Pobreza', 'Hogares en Pobreza Extrema'],\n",
    "    'Gasto_Promedio_Mensual_MXN': [\n",
    "        calcular_promedio_ponderado(df_final_18, 'gasto_celular'),\n",
    "        calcular_promedio_ponderado(df_pobreza, 'gasto_celular'),\n",
    "        calcular_promedio_ponderado(df_pobreza_ext, 'gasto_celular')\n",
    "    ],\n",
    "    'Porcentaje_Promedio_del_Ingreso': [\n",
    "        calcular_promedio_ponderado(df_final_18, 'pct_gasto_celular'),\n",
    "        calcular_promedio_ponderado(df_pobreza, 'pct_gasto_celular'),\n",
    "        calcular_promedio_ponderado(df_pobreza_ext, 'pct_gasto_celular')\n",
    "    ]\n",
    "})\n",
    "\n",
    "print(\"\\n--- MÉTRICA 3: Gasto Promedio en Celular (2018) ---\")\n",
    "print(resultados_gasto.round(2))"
   ]
  },
  {
   "cell_type": "markdown",
   "id": "a18b34cb-dc0c-440a-8779-1ff4a8fed6db",
   "metadata": {},
   "source": [
    "# Análisis 2020"
   ]
  },
  {
   "cell_type": "code",
   "execution_count": 35,
   "id": "671ece8f-f399-441f-bc00-2b9aba78a6e1",
   "metadata": {},
   "outputs": [
    {
     "name": "stdout",
     "output_type": "stream",
     "text": [
      "--- INICIANDO ANÁLISIS 2020 ---\n",
      "Rutas definidas para 2020.\n"
     ]
    }
   ],
   "source": [
    "# ===================================================================\n",
    "# ANÁLISIS DE ACCESO A CELULAR Y GASTO EN HOGARES - ENIGH 2020 (CORREGIDO)\n",
    "# ===================================================================\n",
    "\n",
    "import pandas as pd\n",
    "import numpy as np\n",
    "import os\n",
    "\n",
    "# --- Celda 1: Configuración Inicial - Librerías y Rutas ---\n",
    "print(\"--- INICIANDO ANÁLISIS 2020 ---\")\n",
    "ruta_base_20 = '../data/enigh_2020/'\n",
    "\n",
    "# Nombres de archivo (verifica que coincidan con tus archivos de 2020)\n",
    "archivo_hogares_20 = 'hogares.csv'\n",
    "archivo_pobreza_20 = 'pobreza20.csv' \n",
    "archivo_gastos_20 = 'gastoshogar.csv'\n",
    "\n",
    "# Rutas completas\n",
    "path_hogares_20 = f'{ruta_base_20}{archivo_hogares_20}'\n",
    "path_pobreza_20 = f'{ruta_base_20}{archivo_pobreza_20}'\n",
    "path_gastos_20 = f'{ruta_base_20}{archivo_gastos_20}'\n",
    "\n",
    "print(\"Rutas definidas para 2020.\")\n",
    "\n"
   ]
  },
  {
   "cell_type": "code",
   "execution_count": 36,
   "id": "42130db3-eaca-497a-98c0-78a391422aa1",
   "metadata": {},
   "outputs": [
    {
     "name": "stdout",
     "output_type": "stream",
     "text": [
      "\n",
      "Cargando y preparando datos de 2020...\n",
      "Datos fuente procesados.\n"
     ]
    }
   ],
   "source": [
    "# --- Celda 2: Carga y Preparación de Datos Fuente ---\n",
    "print(\"\\nCargando y preparando datos de 2020...\")\n",
    "# 1. Cargar archivos\n",
    "df_hogares_20 = pd.read_csv(path_hogares_20, low_memory=False)\n",
    "df_pobreza_20 = pd.read_csv(path_pobreza_20, low_memory=False)\n",
    "df_gastos_20 = pd.read_csv(path_gastos_20, low_memory=False)\n",
    "\n",
    "# 2. Preparar Pobreza e Ingreso (a nivel hogar)\n",
    "columnas_pobreza = ['folioviv', 'pobreza', 'pobreza_e', 'ict', \"factor\"]\n",
    "df_pobreza_20_hogar = df_pobreza_20[columnas_pobreza].drop_duplicates(subset='folioviv').copy()\n",
    "\n",
    "# 3. Preparar Gastos (a nivel hogar y mensual)\n",
    "df_gastos_20['clave'] = df_gastos_20['clave'].astype(str)\n",
    "gastos_celular_20 = df_gastos_20[\n",
    "    (df_gastos_20['clave'] == 'F003') & \n",
    "    (df_gastos_20['tipo_gasto'] == 'G1')\n",
    "].copy()\n",
    "gastos_celular_20['gasto_tri'] = pd.to_numeric(gastos_celular_20['gasto_tri'], errors='coerce')\n",
    "df_gasto_agregado_20 = gastos_celular_20.groupby('folioviv')['gasto_tri'].sum().reset_index()\n",
    "df_gasto_agregado_20['gasto_celular'] = df_gasto_agregado_20['gasto_tri'] / 3\n",
    "df_gasto_cel_20 = df_gasto_agregado_20[['folioviv', 'gasto_celular']]\n",
    "print(\"Datos fuente procesados.\")\n",
    "\n"
   ]
  },
  {
   "cell_type": "code",
   "execution_count": 37,
   "id": "33188074-d134-4667-b93d-ef7e2050679d",
   "metadata": {},
   "outputs": [
    {
     "name": "stdout",
     "output_type": "stream",
     "text": [
      "\n",
      "Uniendo bases de datos...\n",
      "DataFrame 'df_final_20' creado.\n"
     ]
    }
   ],
   "source": [
    "# --- Celda 3: Unión de las Bases de Datos ---\n",
    "print(\"\\nUniendo bases de datos...\")\n",
    "df_merged_20 = pd.merge(df_hogares_20, df_pobreza_20_hogar, on='folioviv', how='left')\n",
    "df_final_20 = pd.merge(df_merged_20, df_gasto_cel_20, on='folioviv', how='left')\n",
    "df_final_20['gasto_celular'].fillna(0, inplace=True)\n",
    "print(\"DataFrame 'df_final_20' creado.\")\n",
    "\n"
   ]
  },
  {
   "cell_type": "code",
   "execution_count": 38,
   "id": "9be1388a-ecf0-4ba3-8a4b-5ae1b8efc3f7",
   "metadata": {},
   "outputs": [
    {
     "name": "stdout",
     "output_type": "stream",
     "text": [
      "\n",
      "Creando variables de análisis...\n",
      "Variables finales creadas.\n"
     ]
    }
   ],
   "source": [
    "# --- Celda 4: Creación de Variables Finales de Análisis ---\n",
    "print(\"\\nCreando variables de análisis...\")\n",
    "df_final_20['pct_gasto_celular'] = np.where(\n",
    "    (df_final_20['ict'] > 0) & (df_final_20['ict'].notna()),\n",
    "    (df_final_20['gasto_celular'] / df_final_20['ict']) * 100,\n",
    "    0\n",
    ")\n",
    "df_final_20['celular'] = pd.to_numeric(df_final_20['celular'], errors='coerce')\n",
    "df_final_20['conex_inte'] = pd.to_numeric(df_final_20['conex_inte'], errors='coerce')\n",
    "conditions = [\n",
    "    df_final_20['celular'] == 2,\n",
    "    (df_final_20['celular'] == 1) & (df_final_20['conex_inte'] != 1),\n",
    "    (df_final_20['celular'] == 1) & (df_final_20['conex_inte'] == 1)\n",
    "]\n",
    "choices = ['1. Sin Celular', '2. Con Celular, Sin Internet', '3. Con Celular y Con Internet']\n",
    "df_final_20['categoria_conexion'] = np.select(conditions, choices, default='Dato Faltante')\n",
    "print(\"Variables finales creadas.\")\n",
    "\n"
   ]
  },
  {
   "cell_type": "code",
   "execution_count": 39,
   "id": "d359afc1-9659-4ab0-b5b6-bd96966683e0",
   "metadata": {},
   "outputs": [
    {
     "name": "stdout",
     "output_type": "stream",
     "text": [
      "\n",
      "--- GENERANDO RESULTADOS PARA 2020 ---\n",
      "\n",
      "--- MÉTRICA 1: Porcentaje y Nro. de Hogares con Celular por Categoría (2020) ---\n",
      "                        Grupo Porcentaje_Acceso Hogares_Con_Celular  \\\n",
      "0             Hogares Totales            90.12%          32,217,670   \n",
      "1          Hogares en Pobreza            85.61%          11,591,414   \n",
      "2  Hogares en Pobreza Extrema            75.97%           1,975,640   \n",
      "\n",
      "  Total_Hogares  \n",
      "0    35,749,659  \n",
      "1    13,539,629  \n",
      "2     2,600,480  \n",
      "\n",
      "--- MÉTRICA 2: NÚMERO de Hogares por Calidad de Conexión (2020) ---\n",
      "categoria_conexion         1. Sin Celular 2. Con Celular, Sin Internet  \\\n",
      "Hogares Totales                 3,531,989                   13,716,387   \n",
      "Hogares en Pobreza              1,948,215                    7,153,643   \n",
      "Hogares en Pobreza Extrema        624,840                    1,576,368   \n",
      "\n",
      "categoria_conexion         3. Con Celular y Con Internet  \n",
      "Hogares Totales                               18,501,283  \n",
      "Hogares en Pobreza                             4,437,771  \n",
      "Hogares en Pobreza Extrema                       399,272  \n",
      "\n",
      "--- MÉTRICA 2: PORCENTAJE de Hogares por Calidad de Conexión (2020) ---\n",
      "categoria_conexion          1. Sin Celular  2. Con Celular, Sin Internet  \\\n",
      "Hogares Totales                       9.88                         38.37   \n",
      "Hogares en Pobreza                   14.39                         52.83   \n",
      "Hogares en Pobreza Extrema           24.03                         60.62   \n",
      "\n",
      "categoria_conexion          3. Con Celular y Con Internet  \n",
      "Hogares Totales                                     51.75  \n",
      "Hogares en Pobreza                                  32.78  \n",
      "Hogares en Pobreza Extrema                          15.35  \n",
      "\n",
      "--- MÉTRICA 3: Gasto Promedio en Celular (2020) ---\n",
      "                        Grupo  Gasto_Promedio_Mensual_MXN  \\\n",
      "0             Hogares Totales                      177.86   \n",
      "1          Hogares en Pobreza                      151.35   \n",
      "2  Hogares en Pobreza Extrema                      104.70   \n",
      "\n",
      "   Porcentaje_Promedio_del_Ingreso  \n",
      "0                             1.90  \n",
      "1                             2.79  \n",
      "2                             3.64  \n",
      "\n",
      "¡Trabajo de 2020 completado y guardado en: ../data/procesados/enigh_2020_final.parquet!\n"
     ]
    }
   ],
   "source": [
    "# --- Celda 5: Análisis - Métricas (ORDEN CORREGIDO) ---\n",
    "print(\"\\n--- GENERANDO RESULTADOS PARA 2020 ---\")\n",
    "\n",
    "# --- MÉTRICA 1: ACCESO ---\n",
    "# 1. PRIMERO, creamos las columnas auxiliares en el DataFrame principal\n",
    "df_final_20['tiene_celular'] = np.where(df_final_20['celular'] == 1, 1, 0)\n",
    "df_final_20['numerador_pond'] = df_final_20['tiene_celular'] * df_final_20['factor']\n",
    "\n",
    "# 2. AHORA, creamos los DataFrames filtrados (que ya incluirán las nuevas columnas)\n",
    "df_pobreza_20_filt = df_final_20[df_final_20['pobreza'] == 1].copy()\n",
    "df_pobreza_ext_20_filt = df_final_20[df_final_20['pobreza_e'] == 1].copy()\n",
    "\n",
    "# 3. El resto de los cálculos ahora funcionarán correctamente\n",
    "# Cálculos\n",
    "total_hogares_nac = df_final_20['factor'].sum()\n",
    "hogares_con_cel_nac = df_final_20['numerador_pond'].sum()\n",
    "pct_total = (hogares_con_cel_nac / total_hogares_nac) * 100\n",
    "\n",
    "total_hogares_pob = df_pobreza_20_filt['factor'].sum()\n",
    "hogares_con_cel_pob = df_pobreza_20_filt['numerador_pond'].sum()\n",
    "pct_pobreza = (hogares_con_cel_pob / total_hogares_pob) * 100\n",
    "\n",
    "total_hogares_pob_ext = df_pobreza_ext_20_filt['factor'].sum()\n",
    "hogares_con_cel_pob_ext = df_pobreza_ext_20_filt['numerador_pond'].sum()\n",
    "pct_pobreza_ext = (hogares_con_cel_pob_ext / total_hogares_pob_ext) * 100\n",
    "\n",
    "# Consolidar\n",
    "resultados_acceso_20 = pd.DataFrame({\n",
    "    'Grupo': ['Hogares Totales', 'Hogares en Pobreza', 'Hogares en Pobreza Extrema'],\n",
    "    'Porcentaje_Acceso': [pct_total, pct_pobreza, pct_pobreza_ext],\n",
    "    'Hogares_Con_Celular': [hogares_con_cel_nac, hogares_con_cel_pob, hogares_con_cel_pob_ext],\n",
    "    'Total_Hogares': [total_hogares_nac, total_hogares_pob, total_hogares_pob_ext]\n",
    "})\n",
    "resultados_acceso_20['Porcentaje_Acceso'] = resultados_acceso_20['Porcentaje_Acceso'].map('{:.2f}%'.format)\n",
    "resultados_acceso_20['Hogares_Con_Celular'] = resultados_acceso_20['Hogares_Con_Celular'].map('{:,.0f}'.format)\n",
    "resultados_acceso_20['Total_Hogares'] = resultados_acceso_20['Total_Hogares'].map('{:,.0f}'.format)\n",
    "\n",
    "print(\"\\n--- MÉTRICA 1: Porcentaje y Nro. de Hogares con Celular por Categoría (2020) ---\")\n",
    "print(resultados_acceso_20)\n",
    "\n",
    "\n",
    "# --- MÉTRICA 2: CALIDAD DE CONEXIÓN ---\n",
    "def calcular_absolutos(df, columna_categoria):\n",
    "    return df.groupby(columna_categoria)['factor'].sum()\n",
    "abs_total = calcular_absolutos(df_final_20, 'categoria_conexion')\n",
    "abs_pobreza = calcular_absolutos(df_pobreza_20_filt, 'categoria_conexion')\n",
    "abs_pobreza_ext = calcular_absolutos(df_pobreza_ext_20_filt, 'categoria_conexion')\n",
    "df_resumen_conexion_abs_20 = pd.DataFrame({\n",
    "    'Hogares Totales': abs_total, 'Hogares en Pobreza': abs_pobreza, 'Hogares en Pobreza Extrema': abs_pobreza_ext\n",
    "}).transpose().fillna(0)\n",
    "df_resumen_conexion_pct_20 = df_resumen_conexion_abs_20.div(df_resumen_conexion_abs_20.sum(axis=1), axis=0) * 100\n",
    "\n",
    "print(\"\\n--- MÉTRICA 2: NÚMERO de Hogares por Calidad de Conexión (2020) ---\")\n",
    "print(df_resumen_conexion_abs_20.applymap('{:,.0f}'.format))\n",
    "print(\"\\n--- MÉTRICA 2: PORCENTAJE de Hogares por Calidad de Conexión (2020) ---\")\n",
    "print(df_resumen_conexion_pct_20.round(2))\n",
    "\n",
    "\n",
    "# --- MÉTRICA 3: GASTO PROMEDIO ---\n",
    "def calcular_promedio_ponderado(df, col_valor):\n",
    "    df_no_na = df[[col_valor, 'factor']].dropna()\n",
    "    return (df_no_na[col_valor] * df_no_na['factor']).sum() / df_no_na['factor'].sum()\n",
    "resultados_gasto_20 = pd.DataFrame({\n",
    "    'Grupo': ['Hogares Totales', 'Hogares en Pobreza', 'Hogares en Pobreza Extrema'],\n",
    "    'Gasto_Promedio_Mensual_MXN': [\n",
    "        calcular_promedio_ponderado(df_final_20, 'gasto_celular'),\n",
    "        calcular_promedio_ponderado(df_pobreza_20_filt, 'gasto_celular'),\n",
    "        calcular_promedio_ponderado(df_pobreza_ext_20_filt, 'gasto_celular')\n",
    "    ],\n",
    "    'Porcentaje_Promedio_del_Ingreso': [\n",
    "        calcular_promedio_ponderado(df_final_20, 'pct_gasto_celular'),\n",
    "        calcular_promedio_ponderado(df_pobreza_20_filt, 'pct_gasto_celular'),\n",
    "        calcular_promedio_ponderado(df_pobreza_ext_20_filt, 'pct_gasto_celular')\n",
    "    ]\n",
    "})\n",
    "\n",
    "print(\"\\n--- MÉTRICA 3: Gasto Promedio en Celular (2020) ---\")\n",
    "print(resultados_gasto_20.round(2))\n",
    "\n",
    "# --- Celda 6: Guardado del Resultado Final ---\n",
    "ruta_guardado = '../data/procesados/'\n",
    "if not os.path.exists(ruta_guardado):\n",
    "    os.makedirs(ruta_guardado)\n",
    "archivo_parquet_20 = f'{ruta_guardado}enigh_2020_final.parquet'\n",
    "df_final_20.to_parquet(archivo_parquet_20)\n",
    "print(f\"\\n¡Trabajo de 2020 completado y guardado en: {archivo_parquet_20}!\")"
   ]
  },
  {
   "cell_type": "markdown",
   "id": "bed00194-eaed-4771-b531-ee6d6d1b478f",
   "metadata": {},
   "source": [
    "# Análisis 2022"
   ]
  },
  {
   "cell_type": "code",
   "execution_count": 12,
   "id": "2fdcbef4-a9e5-459f-b6da-952b74a000fc",
   "metadata": {},
   "outputs": [
    {
     "name": "stdout",
     "output_type": "stream",
     "text": [
      "--- INICIANDO ANÁLISIS 2022 ---\n",
      "Rutas definidas para 2022.\n"
     ]
    }
   ],
   "source": [
    "# ===================================================================\n",
    "# ANÁLISIS DE ACCESO A CELULAR Y GASTO EN HOGARES - ENIGH 2022\n",
    "# ===================================================================\n",
    "\n",
    "import pandas as pd\n",
    "import numpy as np\n",
    "import os\n",
    "\n",
    "# --- Celda 1: Configuración Inicial - Librerías y Rutas ---\n",
    "print(\"--- INICIANDO ANÁLISIS 2022 ---\")\n",
    "# Apuntamos a la carpeta de datos de 2022\n",
    "ruta_base_22 = '../data/enigh_2022/'\n",
    "\n",
    "# Nombres de archivo (verifica que coincidan con tus archivos de 2022)\n",
    "archivo_hogares_22 = 'hogares.csv'\n",
    "archivo_pobreza_22 = 'pobreza22.csv' \n",
    "archivo_gastos_22 = 'gastoshogar.csv'\n",
    "\n",
    "# Rutas completas\n",
    "path_hogares_22 = f'{ruta_base_22}{archivo_hogares_22}'\n",
    "path_pobreza_22 = f'{ruta_base_22}{archivo_pobreza_22}'\n",
    "path_gastos_22 = f'{ruta_base_22}{archivo_gastos_22}'\n",
    "\n",
    "print(\"Rutas definidas para 2022.\")\n"
   ]
  },
  {
   "cell_type": "code",
   "execution_count": 17,
   "id": "0cf5fe2b-6e4b-440d-b038-77de2eb97f9b",
   "metadata": {},
   "outputs": [
    {
     "name": "stdout",
     "output_type": "stream",
     "text": [
      "\n",
      "Cargando y preparando datos de 2022...\n",
      "Datos fuente procesados.\n"
     ]
    }
   ],
   "source": [
    "# --- Celda 2: Carga y Preparación de Datos Fuente ---\n",
    "print(\"\\nCargando y preparando datos de 2022...\")\n",
    "# 1. Cargar archivos\n",
    "df_hogares_22 = pd.read_csv(path_hogares_22, low_memory=False)\n",
    "df_pobreza_22 = pd.read_csv(path_pobreza_22, low_memory=False)\n",
    "df_gastos_22 = pd.read_csv(path_gastos_22, low_memory=False)\n",
    "\n",
    "# 2. Preparar Pobreza e Ingreso (a nivel hogar)\n",
    "columnas_pobreza = ['folioviv', 'pobreza', 'pobreza_e','ict']\n",
    "df_pobreza_22_hogar = df_pobreza_22[columnas_pobreza].drop_duplicates(subset='folioviv').copy()\n",
    "\n",
    "# 3. Preparar Gastos (a nivel hogar y mensual)\n",
    "df_gastos_22['clave'] = df_gastos_22['clave'].astype(str)\n",
    "gastos_celular_22 = df_gastos_22[\n",
    "    (df_gastos_22['clave'] == 'F003') & \n",
    "    (df_gastos_22['tipo_gasto'] == 'G1')\n",
    "].copy()\n",
    "gastos_celular_22['gasto_tri'] = pd.to_numeric(gastos_celular_22['gasto_tri'], errors='coerce')\n",
    "df_gasto_agregado_22 = gastos_celular_22.groupby('folioviv')['gasto_tri'].sum().reset_index()\n",
    "df_gasto_agregado_22['gasto_celular'] = df_gasto_agregado_22['gasto_tri'] / 3\n",
    "df_gasto_cel_22 = df_gasto_agregado_22[['folioviv', 'gasto_celular']]\n",
    "print(\"Datos fuente procesados.\")"
   ]
  },
  {
   "cell_type": "code",
   "execution_count": 18,
   "id": "b4766843-2cd1-4ee9-bf6b-b432cd1755f0",
   "metadata": {},
   "outputs": [
    {
     "name": "stdout",
     "output_type": "stream",
     "text": [
      "\n",
      "Uniendo bases de datos...\n",
      "DataFrame 'df_final_22' creado.\n"
     ]
    }
   ],
   "source": [
    "# --- Celda 3: Unión de las Bases de Datos ---\n",
    "print(\"\\nUniendo bases de datos...\")\n",
    "df_merged_22 = pd.merge(df_hogares_22, df_pobreza_22_hogar, on='folioviv', how='left')\n",
    "df_final_22 = pd.merge(df_merged_22, df_gasto_cel_22, on='folioviv', how='left')\n",
    "df_final_22['gasto_celular'].fillna(0, inplace=True)\n",
    "print(\"DataFrame 'df_final_22' creado.\")"
   ]
  },
  {
   "cell_type": "code",
   "execution_count": 19,
   "id": "2d67b637-4ae3-4afd-aa23-a4cae8a3fdc0",
   "metadata": {},
   "outputs": [
    {
     "name": "stdout",
     "output_type": "stream",
     "text": [
      "\n",
      "Creando variables de análisis...\n",
      "Variables finales creadas.\n"
     ]
    }
   ],
   "source": [
    "# --- Celda 4: Creación de Variables Finales de Análisis ---\n",
    "print(\"\\nCreando variables de análisis...\")\n",
    "df_final_22['pct_gasto_celular'] = np.where(\n",
    "    (df_final_22['ict'] > 0) & (df_final_22['ict'].notna()),\n",
    "    (df_final_22['gasto_celular'] / df_final_22['ict']) * 100,\n",
    "    0\n",
    ")\n",
    "df_final_22['celular'] = pd.to_numeric(df_final_22['celular'], errors='coerce')\n",
    "df_final_22['conex_inte'] = pd.to_numeric(df_final_22['conex_inte'], errors='coerce')\n",
    "conditions = [\n",
    "    df_final_22['celular'] == 2,\n",
    "    (df_final_22['celular'] == 1) & (df_final_22['conex_inte'] != 1),\n",
    "    (df_final_22['celular'] == 1) & (df_final_22['conex_inte'] == 1)\n",
    "]\n",
    "choices = ['1. Sin Celular', '2. Con Celular, Sin Internet', '3. Con Celular y Con Internet']\n",
    "df_final_22['categoria_conexion'] = np.select(conditions, choices, default='Dato Faltante')\n",
    "print(\"Variables finales creadas.\")"
   ]
  },
  {
   "cell_type": "code",
   "execution_count": 20,
   "id": "a63e63e4-d8bc-4d4c-98a7-8d5475baa297",
   "metadata": {},
   "outputs": [
    {
     "name": "stdout",
     "output_type": "stream",
     "text": [
      "\n",
      "--- GENERANDO RESULTADOS PARA 2022 ---\n"
     ]
    }
   ],
   "source": [
    "# --- Celda 5: Análisis - Métricas ---\n",
    "print(\"\\n--- GENERANDO RESULTADOS PARA 2022 ---\")\n",
    "# 1. Crear columnas auxiliares en el DataFrame principal\n",
    "df_final_22['tiene_celular'] = np.where(df_final_22['celular'] == 1, 1, 0)\n",
    "df_final_22['numerador_pond'] = df_final_22['tiene_celular'] * df_final_22['factor']\n",
    "\n",
    "# 2. Crear los DataFrames filtrados\n",
    "df_pobreza_22_filt = df_final_22[df_final_22['pobreza'] == 1].copy()\n",
    "df_pobreza_ext_22_filt = df_final_22[df_final_22['pobreza_e'] == 1].copy()"
   ]
  },
  {
   "cell_type": "code",
   "execution_count": 21,
   "id": "57d4ab4d-7666-4218-b5a8-657735f95f2d",
   "metadata": {},
   "outputs": [
    {
     "name": "stdout",
     "output_type": "stream",
     "text": [
      "\n",
      "--- MÉTRICA 1: Porcentaje y Nro. de Hogares con Celular por Categoría (2022) ---\n",
      "                        Grupo Porcentaje_Acceso Hogares_Con_Celular  \\\n",
      "0             Hogares Totales            92.31%          34,672,740   \n",
      "1          Hogares en Pobreza            87.81%          10,020,745   \n",
      "2  Hogares en Pobreza Extrema            79.91%           1,717,882   \n",
      "\n",
      "  Total_Hogares  \n",
      "0    37,560,123  \n",
      "1    11,411,279  \n",
      "2     2,149,770  \n"
     ]
    }
   ],
   "source": [
    "# --- MÉTRICA 1: ACCESO ---\n",
    "total_hogares_nac = df_final_22['factor'].sum()\n",
    "hogares_con_cel_nac = df_final_22['numerador_pond'].sum()\n",
    "pct_total = (hogares_con_cel_nac / total_hogares_nac) * 100\n",
    "total_hogares_pob = df_pobreza_22_filt['factor'].sum()\n",
    "hogares_con_cel_pob = df_pobreza_22_filt['numerador_pond'].sum()\n",
    "pct_pobreza = (hogares_con_cel_pob / total_hogares_pob) * 100\n",
    "total_hogares_pob_ext = df_pobreza_ext_22_filt['factor'].sum()\n",
    "hogares_con_cel_pob_ext = df_pobreza_ext_22_filt['numerador_pond'].sum()\n",
    "pct_pobreza_ext = (hogares_con_cel_pob_ext / total_hogares_pob_ext) * 100\n",
    "# Consolidar\n",
    "resultados_acceso_22 = pd.DataFrame({\n",
    "    'Grupo': ['Hogares Totales', 'Hogares en Pobreza', 'Hogares en Pobreza Extrema'],\n",
    "    'Porcentaje_Acceso': [pct_total, pct_pobreza, pct_pobreza_ext],\n",
    "    'Hogares_Con_Celular': [hogares_con_cel_nac, hogares_con_cel_pob, hogares_con_cel_pob_ext],\n",
    "    'Total_Hogares': [total_hogares_nac, total_hogares_pob, total_hogares_pob_ext]\n",
    "})\n",
    "resultados_acceso_22['Porcentaje_Acceso'] = resultados_acceso_22['Porcentaje_Acceso'].map('{:.2f}%'.format)\n",
    "resultados_acceso_22['Hogares_Con_Celular'] = resultados_acceso_22['Hogares_Con_Celular'].map('{:,.0f}'.format)\n",
    "resultados_acceso_22['Total_Hogares'] = resultados_acceso_22['Total_Hogares'].map('{:,.0f}'.format)\n",
    "\n",
    "print(\"\\n--- MÉTRICA 1: Porcentaje y Nro. de Hogares con Celular por Categoría (2022) ---\")\n",
    "print(resultados_acceso_22)\n"
   ]
  },
  {
   "cell_type": "code",
   "execution_count": 22,
   "id": "16ec0849-1053-468f-925e-b2ce8c31bc8c",
   "metadata": {},
   "outputs": [
    {
     "name": "stdout",
     "output_type": "stream",
     "text": [
      "\n",
      "--- MÉTRICA 2: NÚMERO de Hogares por Calidad de Conexión (2022) ---\n",
      "categoria_conexion         1. Sin Celular 2. Con Celular, Sin Internet  \\\n",
      "Hogares Totales                 2,887,383                   12,527,710   \n",
      "Hogares en Pobreza              1,390,534                    5,723,077   \n",
      "Hogares en Pobreza Extrema        431,888                    1,313,399   \n",
      "\n",
      "categoria_conexion         3. Con Celular y Con Internet  \n",
      "Hogares Totales                               22,145,030  \n",
      "Hogares en Pobreza                             4,297,668  \n",
      "Hogares en Pobreza Extrema                       404,483  \n",
      "\n",
      "--- MÉTRICA 2: PORCENTAJE de Hogares por Calidad de Conexión (2022) ---\n",
      "categoria_conexion          1. Sin Celular  2. Con Celular, Sin Internet  \\\n",
      "Hogares Totales                       7.69                         33.35   \n",
      "Hogares en Pobreza                   12.19                         50.15   \n",
      "Hogares en Pobreza Extrema           20.09                         61.09   \n",
      "\n",
      "categoria_conexion          3. Con Celular y Con Internet  \n",
      "Hogares Totales                                     58.96  \n",
      "Hogares en Pobreza                                  37.66  \n",
      "Hogares en Pobreza Extrema                          18.82  \n"
     ]
    }
   ],
   "source": [
    "# --- MÉTRICA 2: CALIDAD DE CONEXIÓN ---\n",
    "def calcular_absolutos(df, columna_categoria):\n",
    "    return df.groupby(columna_categoria)['factor'].sum()\n",
    "abs_total = calcular_absolutos(df_final_22, 'categoria_conexion')\n",
    "abs_pobreza = calcular_absolutos(df_pobreza_22_filt, 'categoria_conexion')\n",
    "abs_pobreza_ext = calcular_absolutos(df_pobreza_ext_22_filt, 'categoria_conexion')\n",
    "df_resumen_conexion_abs_22 = pd.DataFrame({\n",
    "    'Hogares Totales': abs_total, 'Hogares en Pobreza': abs_pobreza, 'Hogares en Pobreza Extrema': abs_pobreza_ext\n",
    "}).transpose().fillna(0)\n",
    "df_resumen_conexion_pct_22 = df_resumen_conexion_abs_22.div(df_resumen_conexion_abs_22.sum(axis=1), axis=0) * 100\n",
    "\n",
    "print(\"\\n--- MÉTRICA 2: NÚMERO de Hogares por Calidad de Conexión (2022) ---\")\n",
    "print(df_resumen_conexion_abs_22.applymap('{:,.0f}'.format))\n",
    "print(\"\\n--- MÉTRICA 2: PORCENTAJE de Hogares por Calidad de Conexión (2022) ---\")\n",
    "print(df_resumen_conexion_pct_22.round(2))\n"
   ]
  },
  {
   "cell_type": "code",
   "execution_count": 23,
   "id": "e8c9e8e5-68ce-4d09-859a-e1f71421896e",
   "metadata": {},
   "outputs": [
    {
     "name": "stdout",
     "output_type": "stream",
     "text": [
      "\n",
      "--- MÉTRICA 3: Gasto Promedio en Celular (2022) ---\n",
      "                        Grupo  Gasto_Promedio_Mensual_MXN  \\\n",
      "0             Hogares Totales                      207.88   \n",
      "1          Hogares en Pobreza                      165.53   \n",
      "2  Hogares en Pobreza Extrema                      109.75   \n",
      "\n",
      "   Porcentaje_Promedio_del_Ingreso  \n",
      "0                             1.55  \n",
      "1                             2.23  \n",
      "2                             2.85  \n"
     ]
    }
   ],
   "source": [
    "# --- MÉTRICA 3: GASTO PROMEDIO ---\n",
    "def calcular_promedio_ponderado(df, col_valor):\n",
    "    df_no_na = df[[col_valor, 'factor']].dropna()\n",
    "    return (df_no_na[col_valor] * df_no_na['factor']).sum() / df_no_na['factor'].sum()\n",
    "resultados_gasto_22 = pd.DataFrame({\n",
    "    'Grupo': ['Hogares Totales', 'Hogares en Pobreza', 'Hogares en Pobreza Extrema'],\n",
    "    'Gasto_Promedio_Mensual_MXN': [\n",
    "        calcular_promedio_ponderado(df_final_22, 'gasto_celular'),\n",
    "        calcular_promedio_ponderado(df_pobreza_22_filt, 'gasto_celular'),\n",
    "        calcular_promedio_ponderado(df_pobreza_ext_22_filt, 'gasto_celular')],\n",
    "    'Porcentaje_Promedio_del_Ingreso': [\n",
    "        calcular_promedio_ponderado(df_final_22, 'pct_gasto_celular'),\n",
    "        calcular_promedio_ponderado(df_pobreza_22_filt, 'pct_gasto_celular'),\n",
    "        calcular_promedio_ponderado(df_pobreza_ext_22_filt, 'pct_gasto_celular')]\n",
    "})\n",
    "\n",
    "print(\"\\n--- MÉTRICA 3: Gasto Promedio en Celular (2022) ---\")\n",
    "print(resultados_gasto_22.round(2))"
   ]
  },
  {
   "cell_type": "code",
   "execution_count": 24,
   "id": "0f762283-0b1c-40f4-9379-9d5d4544717d",
   "metadata": {},
   "outputs": [
    {
     "name": "stdout",
     "output_type": "stream",
     "text": [
      "\n",
      "¡Trabajo de 2022 completado y guardado en: ../data/procesados/enigh_2022_final.parquet!\n"
     ]
    }
   ],
   "source": [
    "# --- Celda 6: Guardado del Resultado Final ---\n",
    "ruta_guardado = '../data/procesados/'\n",
    "if not os.path.exists(ruta_guardado):\n",
    "    os.makedirs(ruta_guardado)\n",
    "archivo_parquet_22 = f'{ruta_guardado}enigh_2022_final.parquet'\n",
    "df_final_22.to_parquet(archivo_parquet_22)\n",
    "print(f\"\\n¡Trabajo de 2022 completado y guardado en: {archivo_parquet_22}!\")\n"
   ]
  },
  {
   "cell_type": "markdown",
   "id": "0dfb399e-c370-4e2f-b70f-6e581d997d30",
   "metadata": {},
   "source": [
    "# Análisis 2024"
   ]
  },
  {
   "cell_type": "code",
   "execution_count": 26,
   "id": "e67cf42f-0ec8-41cc-bd5d-92cbcdac10af",
   "metadata": {},
   "outputs": [
    {
     "name": "stdout",
     "output_type": "stream",
     "text": [
      "--- INICIANDO ANÁLISIS 2024 ---\n",
      "Rutas definidas para 2024.\n"
     ]
    }
   ],
   "source": [
    "# ===================================================================\n",
    "# ANÁLISIS DE ACCESO A CELULAR Y GASTO EN HOGARES - ENIGH 2024\n",
    "# ===================================================================\n",
    "\n",
    "import pandas as pd\n",
    "import numpy as np\n",
    "import os\n",
    "\n",
    "# --- Celda 1: Configuración Inicial - Librerías y Rutas ---\n",
    "print(\"--- INICIANDO ANÁLISIS 2024 ---\")\n",
    "# Apuntamos a la carpeta de datos de 2024\n",
    "ruta_base_24 = '../data/enigh_2024/'\n",
    "\n",
    "# Nombres de archivo (verifica que coincidan con tus archivos de 2024)\n",
    "archivo_hogares_24 = 'hogares.csv'\n",
    "archivo_pobreza_24 = 'pobreza24.csv' \n",
    "archivo_gastos_24 = 'gastoshogar.csv'\n",
    "\n",
    "# Rutas completas\n",
    "path_hogares_24 = f'{ruta_base_24}{archivo_hogares_24}'\n",
    "path_pobreza_24 = f'{ruta_base_24}{archivo_pobreza_24}'\n",
    "path_gastos_24 = f'{ruta_base_24}{archivo_gastos_24}'\n",
    "\n",
    "print(\"Rutas definidas para 2024.\")"
   ]
  },
  {
   "cell_type": "code",
   "execution_count": 31,
   "id": "01b752c4-95b7-4640-aee6-a461702c4708",
   "metadata": {},
   "outputs": [
    {
     "name": "stdout",
     "output_type": "stream",
     "text": [
      "\n",
      "Cargando y preparando datos de 2024...\n",
      "Datos fuente procesados.\n"
     ]
    }
   ],
   "source": [
    "# --- Celda 2: Carga y Preparación de Datos Fuente ---\n",
    "print(\"\\nCargando y preparando datos de 2024...\")\n",
    "# 1. Cargar archivos\n",
    "df_hogares_24 = pd.read_csv(path_hogares_24, low_memory=False)\n",
    "df_pobreza_24 = pd.read_csv(path_pobreza_24, low_memory=False)\n",
    "df_gastos_24 = pd.read_csv(path_gastos_24, low_memory=False)\n",
    "\n",
    "# 2. Preparar Pobreza e Ingreso (a nivel hogar)\n",
    "columnas_pobreza = ['folioviv', 'pobreza', 'pobreza_e', 'ict']\n",
    "df_pobreza_24_hogar = df_pobreza_24[columnas_pobreza].drop_duplicates(subset='folioviv').copy()\n",
    "\n",
    "# 3. Preparar Gastos (a nivel hogar y mensual)\n",
    "# ¡CAMBIO IMPORTANTE! Usamos la nueva clave de gasto \"083201\"\n",
    "df_gastos_24['clave'] = df_gastos_24['clave'].astype(str)\n",
    "gastos_celular_24 = df_gastos_24[\n",
    "    (df_gastos_24['clave'] == '083201') & \n",
    "    (df_gastos_24['tipo_gasto'] == 'G1')\n",
    "].copy()\n",
    "gastos_celular_24['gasto_tri'] = pd.to_numeric(gastos_celular_24['gasto_tri'], errors='coerce')\n",
    "df_gasto_agregado_24 = gastos_celular_24.groupby('folioviv')['gasto_tri'].sum().reset_index()\n",
    "df_gasto_agregado_24['gasto_celular'] = df_gasto_agregado_24['gasto_tri'] / 3\n",
    "df_gasto_cel_24 = df_gasto_agregado_24[['folioviv', 'gasto_celular']]\n",
    "print(\"Datos fuente procesados.\")\n"
   ]
  },
  {
   "cell_type": "code",
   "execution_count": 32,
   "id": "dfb780cf-2cad-4349-bf2e-76a1c009bcf9",
   "metadata": {},
   "outputs": [
    {
     "name": "stdout",
     "output_type": "stream",
     "text": [
      "\n",
      "Uniendo bases de datos...\n",
      "DataFrame 'df_final_24' creado.\n"
     ]
    }
   ],
   "source": [
    "# --- Celda 3: Unión de las Bases de Datos ---\n",
    "print(\"\\nUniendo bases de datos...\")\n",
    "df_merged_24 = pd.merge(df_hogares_24, df_pobreza_24_hogar, on='folioviv', how='left')\n",
    "df_final_24 = pd.merge(df_merged_24, df_gasto_cel_24, on='folioviv', how='left')\n",
    "df_final_24['gasto_celular'].fillna(0, inplace=True)\n",
    "print(\"DataFrame 'df_final_24' creado.\")"
   ]
  },
  {
   "cell_type": "code",
   "execution_count": 33,
   "id": "324a332d-24d2-4b59-8fdf-94bd9152ff4b",
   "metadata": {},
   "outputs": [
    {
     "name": "stdout",
     "output_type": "stream",
     "text": [
      "\n",
      "Creando variables de análisis...\n",
      "Variables finales creadas.\n"
     ]
    }
   ],
   "source": [
    "# --- Celda 4: Creación de Variables Finales de Análisis ---\n",
    "print(\"\\nCreando variables de análisis...\")\n",
    "df_final_24['pct_gasto_celular'] = np.where(\n",
    "    (df_final_24['ict'] > 0) & (df_final_24['ict'].notna()),\n",
    "    (df_final_24['gasto_celular'] / df_final_24['ict']) * 100,\n",
    "    0\n",
    ")\n",
    "df_final_24['celular'] = pd.to_numeric(df_final_24['celular'], errors='coerce')\n",
    "df_final_24['conex_inte'] = pd.to_numeric(df_final_24['conex_inte'], errors='coerce')\n",
    "conditions = [\n",
    "    df_final_24['celular'] == 2,\n",
    "    (df_final_24['celular'] == 1) & (df_final_24['conex_inte'] != 1),\n",
    "    (df_final_24['celular'] == 1) & (df_final_24['conex_inte'] == 1)\n",
    "]\n",
    "choices = ['1. Sin Celular', '2. Con Celular, Sin Internet', '3. Con Celular y Con Internet']\n",
    "df_final_24['categoria_conexion'] = np.select(conditions, choices, default='Dato Faltante')\n",
    "print(\"Variables finales creadas.\")\n"
   ]
  },
  {
   "cell_type": "code",
   "execution_count": 34,
   "id": "b50d940f-da03-4aa3-b549-81759b5fee2c",
   "metadata": {},
   "outputs": [
    {
     "name": "stdout",
     "output_type": "stream",
     "text": [
      "\n",
      "--- GENERANDO RESULTADOS PARA 2024 ---\n"
     ]
    }
   ],
   "source": [
    "# --- Celda 5: Análisis - Métricas ---\n",
    "print(\"\\n--- GENERANDO RESULTADOS PARA 2024 ---\")\n",
    "# 1. Crear columnas auxiliares\n",
    "df_final_24['tiene_celular'] = np.where(df_final_24['celular'] == 1, 1, 0)\n",
    "df_final_24['numerador_pond'] = df_final_24['tiene_celular'] * df_final_24['factor']\n",
    "\n",
    "# 2. Crear DataFrames filtrados\n",
    "df_pobreza_24_filt = df_final_24[df_final_24['pobreza'] == 1].copy()\n",
    "df_pobreza_ext_24_filt = df_final_24[df_final_24['pobreza_e'] == 1].copy()\n",
    "\n",
    "# --- (Resultados para Métrica 1, 2 y 3 se imprimirán al final) ---\n"
   ]
  },
  {
   "cell_type": "code",
   "execution_count": 35,
   "id": "1c2bb7a2-a5e8-4c07-8a84-8e69746f2411",
   "metadata": {},
   "outputs": [
    {
     "name": "stdout",
     "output_type": "stream",
     "text": [
      "\n",
      "¡Trabajo de 2024 procesado y guardado en: ../data/procesados/enigh_2024_final.parquet!\n"
     ]
    }
   ],
   "source": [
    "# --- Celda 6: Guardado del Resultado Final ---\n",
    "ruta_guardado = '../data/procesados/'\n",
    "if not os.path.exists(ruta_guardado):\n",
    "    os.makedirs(ruta_guardado)\n",
    "archivo_parquet_24 = f'{ruta_guardado}enigh_2024_final.parquet'\n",
    "df_final_24.to_parquet(archivo_parquet_24)\n",
    "print(f\"\\n¡Trabajo de 2024 procesado y guardado en: {archivo_parquet_24}!\")"
   ]
  },
  {
   "cell_type": "code",
   "execution_count": 36,
   "id": "ecdd7066-1c18-4de5-9f01-729865cd0bd8",
   "metadata": {},
   "outputs": [
    {
     "name": "stdout",
     "output_type": "stream",
     "text": [
      "\n",
      "--- MÉTRICA 1: Porcentaje y Nro. de Hogares con Celular por Categoría (2024) ---\n",
      "                        Grupo Porcentaje_Acceso Hogares_Con_Celular  \\\n",
      "0             Hogares Totales            94.79%          36,808,786   \n",
      "1          Hogares en Pobreza            90.75%           8,460,476   \n",
      "2  Hogares en Pobreza Extrema            82.89%           1,346,695   \n",
      "\n",
      "  Total_Hogares  \n",
      "0    38,830,230  \n",
      "1     9,322,466  \n",
      "2     1,624,681  \n",
      "\n",
      "--- MÉTRICA 2: NÚMERO de Hogares por Calidad de Conexión (2024) ---\n",
      "categoria_conexion         1. Sin Celular 2. Con Celular, Sin Internet  \\\n",
      "Hogares Totales                 2,021,444                    9,917,136   \n",
      "Hogares en Pobreza                861,990                    4,061,032   \n",
      "Hogares en Pobreza Extrema        277,986                      905,961   \n",
      "\n",
      "categoria_conexion         3. Con Celular y Con Internet  \n",
      "Hogares Totales                               26,891,650  \n",
      "Hogares en Pobreza                             4,399,444  \n",
      "Hogares en Pobreza Extrema                       440,734  \n",
      "\n",
      "--- MÉTRICA 2: PORCENTAJE de Hogares por Calidad de Conexión (2024) ---\n",
      "categoria_conexion          1. Sin Celular  2. Con Celular, Sin Internet  \\\n",
      "Hogares Totales                       5.21                         25.54   \n",
      "Hogares en Pobreza                    9.25                         43.56   \n",
      "Hogares en Pobreza Extrema           17.11                         55.76   \n",
      "\n",
      "categoria_conexion          3. Con Celular y Con Internet  \n",
      "Hogares Totales                                     69.25  \n",
      "Hogares en Pobreza                                  47.19  \n",
      "Hogares en Pobreza Extrema                          27.13  \n",
      "\n",
      "--- MÉTRICA 3: Gasto Promedio en Celular (2024) ---\n",
      "                        Grupo  Gasto_Promedio_Mensual_MXN  \\\n",
      "0             Hogares Totales                      242.15   \n",
      "1          Hogares en Pobreza                      193.09   \n",
      "2  Hogares en Pobreza Extrema                      123.79   \n",
      "\n",
      "   Porcentaje_Promedio_del_Ingreso  \n",
      "0                             1.48  \n",
      "1                             2.31  \n",
      "2                             2.86  \n"
     ]
    }
   ],
   "source": [
    "# --- CÓDIGO PARA MOSTRAR LOS RESULTADOS DE 2024 ---\n",
    "\n",
    "# --- MÉTRICA 1: ACCESO ---\n",
    "total_hogares_nac = df_final_24['factor'].sum()\n",
    "hogares_con_cel_nac = df_final_24['numerador_pond'].sum()\n",
    "pct_total = (hogares_con_cel_nac / total_hogares_nac) * 100\n",
    "total_hogares_pob = df_pobreza_24_filt['factor'].sum()\n",
    "hogares_con_cel_pob = df_pobreza_24_filt['numerador_pond'].sum()\n",
    "pct_pobreza = (hogares_con_cel_pob / total_hogares_pob) * 100\n",
    "total_hogares_pob_ext = df_pobreza_ext_24_filt['factor'].sum()\n",
    "hogares_con_cel_pob_ext = df_pobreza_ext_24_filt['numerador_pond'].sum()\n",
    "pct_pobreza_ext = (hogares_con_cel_pob_ext / total_hogares_pob_ext) * 100\n",
    "resultados_acceso_24 = pd.DataFrame({\n",
    "    'Grupo': ['Hogares Totales', 'Hogares en Pobreza', 'Hogares en Pobreza Extrema'],\n",
    "    'Porcentaje_Acceso': [pct_total, pct_pobreza, pct_pobreza_ext],\n",
    "    'Hogares_Con_Celular': [hogares_con_cel_nac, hogares_con_cel_pob, hogares_con_cel_pob_ext],\n",
    "    'Total_Hogares': [total_hogares_nac, total_hogares_pob, total_hogares_pob_ext]\n",
    "})\n",
    "resultados_acceso_24['Porcentaje_Acceso'] = resultados_acceso_24['Porcentaje_Acceso'].map('{:.2f}%'.format)\n",
    "resultados_acceso_24['Hogares_Con_Celular'] = resultados_acceso_24['Hogares_Con_Celular'].map('{:,.0f}'.format)\n",
    "resultados_acceso_24['Total_Hogares'] = resultados_acceso_24['Total_Hogares'].map('{:,.0f}'.format)\n",
    "print(\"\\n--- MÉTRICA 1: Porcentaje y Nro. de Hogares con Celular por Categoría (2024) ---\")\n",
    "print(resultados_acceso_24)\n",
    "\n",
    "# --- MÉTRICA 2: CALIDAD DE CONEXIÓN ---\n",
    "def calcular_absolutos(df, columna_categoria): return df.groupby(columna_categoria)['factor'].sum()\n",
    "abs_total = calcular_absolutos(df_final_24, 'categoria_conexion')\n",
    "abs_pobreza = calcular_absolutos(df_pobreza_24_filt, 'categoria_conexion')\n",
    "abs_pobreza_ext = calcular_absolutos(df_pobreza_ext_24_filt, 'categoria_conexion')\n",
    "df_resumen_conexion_abs_24 = pd.DataFrame({'Hogares Totales': abs_total, 'Hogares en Pobreza': abs_pobreza, 'Hogares en Pobreza Extrema': abs_pobreza_ext}).transpose().fillna(0)\n",
    "df_resumen_conexion_pct_24 = df_resumen_conexion_abs_24.div(df_resumen_conexion_abs_24.sum(axis=1), axis=0) * 100\n",
    "print(\"\\n--- MÉTRICA 2: NÚMERO de Hogares por Calidad de Conexión (2024) ---\")\n",
    "print(df_resumen_conexion_abs_24.applymap('{:,.0f}'.format))\n",
    "print(\"\\n--- MÉTRICA 2: PORCENTAJE de Hogares por Calidad de Conexión (2024) ---\")\n",
    "print(df_resumen_conexion_pct_24.round(2))\n",
    "\n",
    "# --- MÉTRICA 3: GASTO PROMEDIO ---\n",
    "def calcular_promedio_ponderado(df, col_valor):\n",
    "    df_no_na = df[[col_valor, 'factor']].dropna()\n",
    "    return (df_no_na[col_valor] * df_no_na['factor']).sum() / df_no_na['factor'].sum()\n",
    "resultados_gasto_24 = pd.DataFrame({\n",
    "    'Grupo': ['Hogares Totales', 'Hogares en Pobreza', 'Hogares en Pobreza Extrema'],\n",
    "    'Gasto_Promedio_Mensual_MXN': [\n",
    "        calcular_promedio_ponderado(df_final_24, 'gasto_celular'),\n",
    "        calcular_promedio_ponderado(df_pobreza_24_filt, 'gasto_celular'),\n",
    "        calcular_promedio_ponderado(df_pobreza_ext_24_filt, 'gasto_celular')],\n",
    "    'Porcentaje_Promedio_del_Ingreso': [\n",
    "        calcular_promedio_ponderado(df_final_24, 'pct_gasto_celular'),\n",
    "        calcular_promedio_ponderado(df_pobreza_24_filt, 'pct_gasto_celular'),\n",
    "        calcular_promedio_ponderado(df_pobreza_ext_24_filt, 'pct_gasto_celular')]\n",
    "})\n",
    "print(\"\\n--- MÉTRICA 3: Gasto Promedio en Celular (2024) ---\")\n",
    "print(resultados_gasto_24.round(2))"
   ]
  },
  {
   "cell_type": "code",
   "execution_count": 37,
   "id": "a795b0df-6ff1-482e-a41d-6029e189c97d",
   "metadata": {},
   "outputs": [
    {
     "data": {
      "image/png": "[encoded data removed]",
      "text/plain": [
       "<Figure size 1200x800 with 1 Axes>"
      ]
     },
     "metadata": {},
     "output_type": "display_data"
    }
   ],
   "source": [
    "import matplotlib.pyplot as plt\n",
    "import seaborn as sns\n",
    "\n",
    "# --- VISUALIZACIÓN FINAL: EVOLUCIÓN DEL ACCESO 2018-2024 ---\n",
    "\n",
    "# 1. Crear el DataFrame con todos los datos\n",
    "data_evolucion_final = {\n",
    "    'Año': [2018, 2020, 2022, 2024, 2018, 2020, 2022, 2024, 2018, 2020, 2022, 2024],\n",
    "    'Grupo': [\n",
    "        'Hogares Totales', 'Hogares Totales', 'Hogares Totales', 'Hogares Totales',\n",
    "        'Hogares en Pobreza', 'Hogares en Pobreza', 'Hogares en Pobreza', 'Hogares en Pobreza',\n",
    "        'Hogares en Pobreza Extrema', 'Hogares en Pobreza Extrema', 'Hogares en Pobreza Extrema', 'Hogares en Pobreza Extrema'\n",
    "    ],\n",
    "    'Porcentaje_Acceso': [\n",
    "        86.11, 90.12, 92.31, 94.79, \n",
    "        77.29, 85.61, 87.81, 90.75, \n",
    "        59.70, 75.97, 79.91, 82.89\n",
    "    ]\n",
    "}\n",
    "df_evolucion_final = pd.DataFrame(data_evolucion_final)\n",
    "\n",
    "# 2. Crear el gráfico\n",
    "plt.style.use('seaborn-v0_8-whitegrid')\n",
    "fig, ax = plt.subplots(figsize=(12, 8))\n",
    "\n",
    "sns.lineplot(data=df_evolucion_final, x='Año', y='Porcentaje_Acceso', hue='Grupo', style='Grupo', \n",
    "             palette='viridis', markers=True, dashes=False, lw=3, markersize=10)\n",
    "\n",
    "# 3. Mejorar el formato del gráfico\n",
    "ax.set_title('Evolución del Acceso a Celular por Condición de Pobreza (2018-2024)', fontsize=18, pad=20, weight='bold')\n",
    "ax.set_ylabel('Porcentaje de Hogares con Acceso (%)', fontsize=14)\n",
    "ax.set_xlabel('Año', fontsize=14)\n",
    "ax.set_xticks([2018, 2020, 2022, 2024])\n",
    "ax.set_ylim(55, 100)\n",
    "ax.legend(title='Grupo Poblacional', fontsize=12)\n",
    "plt.grid(True, which='both', linestyle='--', linewidth=0.7)\n",
    "\n",
    "# Añadir etiquetas de datos a cada punto\n",
    "for line in ax.lines:\n",
    "    for x, y in zip(line.get_xdata(), line.get_ydata()):\n",
    "        ax.text(x, y + 1.1, f'{y:.1f}%', ha='center', va='bottom', fontsize=11, weight='semibold',\n",
    "                bbox=dict(facecolor='white', alpha=0.6, edgecolor='none', boxstyle='round,pad=0.2'))\n",
    "\n",
    "plt.show()"
   ]
  },
  {
   "cell_type": "code",
   "execution_count": null,
   "id": "02b34d47-b5ee-4036-bb94-e1194af1ad1a",
   "metadata": {},
   "outputs": [],
   "source": []
  }
 ],
 "metadata": {
  "kernelspec": {
   "display_name": "Python 3 (ipykernel)",
   "language": "python",
   "name": "python3"
  },
  "language_info": {
   "codemirror_mode": {
    "name": "ipython",
    "version": 3
   },
   "file_extension": ".py",
   "mimetype": "text/x-python",
   "name": "python",
   "nbconvert_exporter": "python",
   "pygments_lexer": "ipython3",
   "version": "3.8.2"
  }
 },
 "nbformat": 4,
 "nbformat_minor": 5
}
